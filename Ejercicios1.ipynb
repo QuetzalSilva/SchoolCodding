{
 "cells": [
  {
   "cell_type": "markdown",
   "metadata": {},
   "source": [
    "Ejercicio 1: "
   ]
  },
  {
   "cell_type": "code",
   "execution_count": null,
   "metadata": {},
   "outputs": [],
   "source": [
    "try:\n",
    "    numero = int(input(\"Ingresa un número entero: \"))  # Convertimos la entrada a entero.\n",
    "\n",
    "    if numero % 2 == 0:  # Verificamos si el número es divisible por 2.\n",
    "        print(\"El número \", numero, \" es par\")\n",
    "    else:\n",
    "        print(\"El número \", numero, \" es impar\")\n",
    "except ValueError:  # Manejo de errores si el usuario no ingresa un número entero.\n",
    "    print(\"El valor ingresado no es un número entero. Inténtalo de nuevo.\")"
   ]
  },
  {
   "cell_type": "markdown",
   "metadata": {},
   "source": [
    "Ejercicio 2: "
   ]
  },
  {
   "cell_type": "code",
   "execution_count": null,
   "metadata": {},
   "outputs": [],
   "source": [
    "try:\n",
    "    numero = int(input(\"Ingresa un número entero: \"))  # Convertimos la entrada a entero.\n",
    "\n",
    "    if numero >= 0:  # Debemos verificar que sea positivo.\n",
    "        while numero >= 0:  # Usamos el bucle que imprime desde el número ingresado hasta 0.\n",
    "            print(numero)\n",
    "            numero -= 1\n",
    "    else:\n",
    "        print(\"El número ingresado no es positivo. Inténtalo de nuevo.\")\n",
    "\n",
    "except ValueError: # Manejo de errores si el usuario no ingresa un número entero.\n",
    "    print(\"El valor ingresado no es un número entero. Inténtalo de nuevo.\")"
   ]
  },
  {
   "cell_type": "markdown",
   "metadata": {},
   "source": [
    "Ejercicio 3: "
   ]
  },
  {
   "cell_type": "code",
   "execution_count": null,
   "metadata": {},
   "outputs": [],
   "source": [
    "# Definimos una función que usaremos en para vender 3 productos con sus respectivos descuentos. \n",
    "def calculo_descuento(precio_org, porcentaje_desc):\n",
    "\n",
    "    # Verificamos que la información ingresada sea mayor a cero. \n",
    "    if precio_org < 0 or porcentaje_desc < 0:\n",
    "        print(\"El precio y descuento no puede ser menor a cero.\")\n",
    "        return\n",
    "    \n",
    "    # Realizamos el cálculo del descuento a moneada y el precio final después de descuento\n",
    "    \n",
    "    descuento_final = precio_org * (porcentaje_desc / 100)\n",
    "    precio_final = precio_org - descuento_final \n",
    "    \n",
    "    # Ver el precio original, descuento y precio final por pantalla\n",
    "    print(f\"Precio original: ${precio_org:.2f}\")\n",
    "    print(f\"Descuento aplicado: {porcentaje_desc:.2f}% (${descuento_final:.2f})\")\n",
    "    print(f\"Precio final después del descuento: ${precio_final:.2f}\")\n",
    "\n",
    "# Solicitar valores para tres productos y sus descuentos, comenzando por el producto:\n",
    "productos = []\n",
    "for i in range(1, 4):\n",
    "    try:\n",
    "        producto = float(input(f\"Ingrese el precio del producto {i}: \"))\n",
    "        descuento = float(input(f\"Ingrese el descuento aplicado {i}: \")) \n",
    "        productos.append((producto, descuento))\n",
    "    except ValueError:\n",
    "        print(\"El precio ingresado no cumple con los parámetros solicitados. Comiense de nuevo\")\n",
    "        exit()\n",
    "\n",
    "# Y ahora usaremos la función para cada producto\n",
    "for producto, descuento in productos:\n",
    "    calculo_descuento(producto, descuento)"
   ]
  },
  {
   "cell_type": "markdown",
   "metadata": {},
   "source": [
    "Ejercicio 4: "
   ]
  },
  {
   "cell_type": "code",
   "execution_count": null,
   "metadata": {},
   "outputs": [],
   "source": [
    "from random import randint # Esta librería nos permitirá generar nuestra lista de números aleatorios.\n",
    "\n",
    "# Crear una lista de números del 1 al 100, después encontraré cuantos de estos números son pares y cuantos impares. \n",
    "numeros = int(input(\"Ingrese cantidad de númersos a evaluar:\"))\n",
    "\n",
    "numerosAleatorios = [randint(0, numeros) for i in range(numeros)]\n",
    "\n",
    "# Inicializar contadores para pares e impares\n",
    "contador_pares = 0\n",
    "contador_impares = 0\n",
    "\n",
    "# Recorremos la lista y contar pares e impares\n",
    "for numero in numerosAleatorios:\n",
    "    if numero %2 == 0:\n",
    "        contador_pares += 1\n",
    "    else:\n",
    "        contador_impares += 1\n",
    "\n",
    "# Mostrar resultados\n",
    "print(\"Lista de números generados:\", numerosAleatorios)\n",
    "print(f\"Números pares: {contador_pares}\")\n",
    "print(f\"Números impares: {contador_impares}\")"
   ]
  },
  {
   "cell_type": "markdown",
   "metadata": {},
   "source": [
    "Ejercicio 5: "
   ]
  },
  {
   "cell_type": "code",
   "execution_count": null,
   "metadata": {},
   "outputs": [],
   "source": [
    "# Definimos una función recursiva para calcular la secuencia de Fibonacci.\n",
    "def calculo_fibonacci(n, secuencia=[0, 1]):\n",
    "    # Con ayuda de un condicional, confirmaremos que el número ingresado sea positivo mayor a cero.\n",
    "    if n <= 0:\n",
    "        return \"El número ingresado no cumple con los parámetros requeridos, intente de nuevo.\"\n",
    "    \n",
    "    # Si la longitud de la secuencia es igual a n, hemos terminado nuestro cálculo.\n",
    "    if len(secuencia) >= n:\n",
    "        return secuencia[:n]\n",
    "    \n",
    "    # Añadimos el siguiente número en la secuencia.\n",
    "    secuencia.append(secuencia[-1] + secuencia[-2])\n",
    "    return calculo_fibonacci(n, secuencia)\n",
    "\n",
    "# Ingresaremos manualmente el número que queremos calcular.\n",
    "numero = int(input(\"Ingresa un número positivo mayor a cero: \"))\n",
    "resultado = calculo_fibonacci(numero)\n",
    "\n",
    "# Nos mostrará por pantalla el cálculo completo.\n",
    "print(f\"Secuencia de Fibonacci para {numero} términos: {resultado}\")\n"
   ]
  }
 ],
 "metadata": {
  "kernelspec": {
   "display_name": "Python 3",
   "language": "python",
   "name": "python3"
  },
  "language_info": {
   "codemirror_mode": {
    "name": "ipython",
    "version": 3
   },
   "file_extension": ".py",
   "mimetype": "text/x-python",
   "name": "python",
   "nbconvert_exporter": "python",
   "pygments_lexer": "ipython3",
   "version": "3.12.5"
  }
 },
 "nbformat": 4,
 "nbformat_minor": 2
}
